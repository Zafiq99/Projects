{
 "cells": [
  {
   "cell_type": "code",
   "execution_count": 1,
   "metadata": {},
   "outputs": [],
   "source": [
    "import numpy as np\n",
    "import pandas as pd\n",
    "import PySimpleGUI as gui\n",
    "import pickle\n",
    "from pathlib import Path"
   ]
  },
  {
   "cell_type": "code",
   "execution_count": 2,
   "metadata": {},
   "outputs": [
    {
     "name": "stdout",
     "output_type": "stream",
     "text": [
      "Check {'-ModelFile-': 'C:/Users/afiq_/OneDrive - Universiti Teknologi MARA/Desktop/GitHub Project/Linear Regression/MedicCostRegression.pickle', 'Browse': 'C:/Users/afiq_/OneDrive - Universiti Teknologi MARA/Desktop/GitHub Project/Linear Regression/MedicCostRegression.pickle', '-Age-': '24', '-Sex-': 'Female', '-BMI-': '19', '-Children-': '1', '-Smoker-': 'No', '-Region-': 'Southeast'}\n",
      "Check {'-ModelFile-': 'C:/Users/afiq_/OneDrive - Universiti Teknologi MARA/Desktop/GitHub Project/Linear Regression/MedicCostRegression.pickle', 'Browse': 'C:/Users/afiq_/OneDrive - Universiti Teknologi MARA/Desktop/GitHub Project/Linear Regression/MedicCostRegression.pickle', '-Age-': '24', '-Sex-': 'Female', '-BMI-': '19', '-Children-': '12', '-Smoker-': 'No', '-Region-': 'Southeast'}\n",
      "Check {'-ModelFile-': 'C:/Users/afiq_/OneDrive - Universiti Teknologi MARA/Desktop/GitHub Project/Linear Regression/MedicCostRegression.pickle', 'Browse': 'C:/Users/afiq_/OneDrive - Universiti Teknologi MARA/Desktop/GitHub Project/Linear Regression/MedicCostRegression.pickle', '-Age-': '24', '-Sex-': 'Female', '-BMI-': '19', '-Children-': '12', '-Smoker-': 'No', '-Region-': 'Southeast'}\n",
      "Exit {'-ModelFile-': 'C:/Users/afiq_/OneDrive - Universiti Teknologi MARA/Desktop/GitHub Project/Linear Regression/MedicCostRegression.pickle', 'Browse': 'C:/Users/afiq_/OneDrive - Universiti Teknologi MARA/Desktop/GitHub Project/Linear Regression/MedicCostRegression.pickle', '-Age-': '24', '-Sex-': 'Female', '-BMI-': '19', '-Children-': '12', '-Smoker-': 'No', '-Region-': 'Southeast'}\n"
     ]
    }
   ],
   "source": [
    "#Function to make prediction \n",
    "def check(mFile,age,sex,bmi,children,smoker,region):\n",
    "\n",
    "    pickle_in = open(mFile,\"rb\")\n",
    "    gbr = pickle.load(pickle_in)\n",
    "\n",
    "    data = {'age' : age,\n",
    "            'sex' : sex,\n",
    "            'bmi' : bmi,\n",
    "            'children' : children,\n",
    "            'smoker' : smoker,\n",
    "            'region' : region}\n",
    " \n",
    "    data = pd.DataFrame(data,index=[0])\n",
    "    data['sex']=data['sex'].map({'Female':0,'Male':1})\n",
    "    data['smoker']=data['smoker'].map({'Yes':1,'No':0})\n",
    "    data['region']=data['region'].map({'Southwest':1,'Southeast':2,'Northwest':3,'Northeast':4})\n",
    "    pred = gbr.predict(data)\n",
    "\n",
    "    window.disappear()\n",
    "    gui.popup_no_titlebar(\"Your medical cost : \", np.round(pred,2))\n",
    "    window.reappear()\n",
    "    \n",
    "#Check if file is valid\n",
    "def is_valid_path(filepath):\n",
    "    if filepath and Path(filepath).exists():\n",
    "        return True\n",
    "    gui.popup_error(\"Filepath is not valid\")\n",
    "    return False\n",
    "\n",
    "#GUI using Pysimplegui\n",
    "layout = [\n",
    "    [gui.Text(\"Model : Gradient Boosting Regressor\", pad=((34,0),(0,0)), justification=\"r\")],\n",
    "    [gui.Text(\"Model File :\", s=9, justification=\"r\"), gui.Input(key=\"-ModelFile-\"),gui.FileBrowse(file_types=((\"PICKLE file\",\"*.pickle*\"),))],\n",
    "    [gui.Text(\"Age :\", s=9, justification=\"r\"), gui.Input(key=\"-Age-\")],\n",
    "    [gui.Text(\"Sex :\", s=9, justification=\"r\"), gui.Combo([\"Female\", \"Male\"], key=\"-Sex-\")],\n",
    "    [gui.Text(\"BMI :\", s=9, justification=\"r\"), gui.Input(key=\"-BMI-\")],\n",
    "    [gui.Text(\"Children :\", s=9, justification=\"r\"), gui.Input(key=\"-Children-\")],\n",
    "    [gui.Text(\"Smoker :\", s=9, justification=\"r\"),gui.Combo([\"No\", \"Yes\"], key=\"-Smoker-\")],\n",
    "    [gui.Text(\"Region :\", s=9, justification=\"r\"),gui.Combo([\"Southwest\", \"Southeast\", \"Northwest\", \"Northeast\"], key=\"-Region-\")],\n",
    "    [gui.Exit(s=18, button_color=\"tomato\", pad=((92,6),(10,2))),gui.Button(\"Check\", s=18, pad=((6,0),(10,2)))],\n",
    "    ]\n",
    "\n",
    "window = gui.Window(\"Machine Learning GUI\", layout)\n",
    "\n",
    "while True:\n",
    "    event, values = window.read()\n",
    "    print(event,values)\n",
    "    if event in (gui.WINDOW_CLOSED,\"Exit\") :\n",
    "        break\n",
    "    if event == \"Check\" :\n",
    "        if (is_valid_path(values[\"-ModelFile-\"])):\n",
    "            check(\n",
    "                mFile = values[\"-ModelFile-\"],\n",
    "                age = values[\"-Age-\"],\n",
    "                sex = values[\"-Sex-\"],\n",
    "                bmi = values[\"-BMI-\"],\n",
    "                children = values[\"-Children-\"],\n",
    "                smoker = values[\"-Smoker-\"],\n",
    "                region = values[\"-Region-\"],\n",
    "        )\n",
    "window.close()"
   ]
  }
 ],
 "metadata": {
  "kernelspec": {
   "display_name": "Python 3",
   "language": "python",
   "name": "python3"
  },
  "language_info": {
   "codemirror_mode": {
    "name": "ipython",
    "version": 3
   },
   "file_extension": ".py",
   "mimetype": "text/x-python",
   "name": "python",
   "nbconvert_exporter": "python",
   "pygments_lexer": "ipython3",
   "version": "3.11.4"
  },
  "orig_nbformat": 4
 },
 "nbformat": 4,
 "nbformat_minor": 2
}
