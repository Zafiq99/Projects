{
 "cells": [
  {
   "cell_type": "code",
   "execution_count": 7,
   "metadata": {},
   "outputs": [],
   "source": [
    "import pandas as pd\n",
    "import numpy as np\n",
    "from sklearn import preprocessing\n",
    "from sklearn.model_selection import train_test_split\n",
    "from sklearn.neighbors import KNeighborsClassifier\n",
    "from sklearn.ensemble import RandomForestClassifier\n",
    "from sklearn.naive_bayes import CategoricalNB\n",
    "from sklearn import metrics\n",
    "from sklearn.model_selection import GridSearchCV"
   ]
  },
  {
   "cell_type": "code",
   "execution_count": null,
   "metadata": {},
   "outputs": [],
   "source": [
    "data = pd.read_csv(\"car.data\")\n",
    "data.describe(include='all')"
   ]
  },
  {
   "cell_type": "code",
   "execution_count": 9,
   "metadata": {},
   "outputs": [],
   "source": [
    "proc = preprocessing.LabelEncoder()\n",
    "\n",
    "data['buy_price'] = proc.fit_transform(list(data[\"buy_price\"])) #['vhigh', 'high', 'med', 'low'] - [3, 0, 2, 1]\n",
    "data['maint_price'] = proc.fit_transform(list(data[\"maint_price\"])) #['vhigh', 'high', 'med', 'low'] - [3, 0, 2, 1]\n",
    "data['doors'] = proc.fit_transform(list(data[\"doors\"])) #['2', '3', '4', '5more'] - [0, 1, 2, 3]\n",
    "data['persons'] = proc.fit_transform(list(data[\"persons\"])) #['2', '4', 'more'] - [0, 1, 2]\n",
    "data['lug_boot'] = proc.fit_transform(list(data[\"lug_boot\"])) #['small', 'med', 'big'] -[2, 1, 0]\n",
    "data['safety'] = proc.fit_transform(list(data[\"safety\"])) #['low', 'med', 'high'] - [1, 2, 0]\n",
    "data['class'] = proc.fit_transform(list(data[\"class\"])) #['unacc', 'acc', 'vgood', 'good'] - [2, 0, 3, 1]\n"
   ]
  },
  {
   "cell_type": "code",
   "execution_count": 10,
   "metadata": {},
   "outputs": [],
   "source": [
    "predict = 'class'\n",
    "\n",
    "X = data.drop([predict],axis=1)\n",
    "y = data[predict]"
   ]
  },
  {
   "cell_type": "code",
   "execution_count": 11,
   "metadata": {},
   "outputs": [],
   "source": [
    "X_train,X_test,y_train,y_test=train_test_split(X,y,test_size=0.3,random_state=0)"
   ]
  },
  {
   "cell_type": "code",
   "execution_count": null,
   "metadata": {},
   "outputs": [],
   "source": [
    "#Train the model\n",
    "KNN = KNeighborsClassifier()\n",
    "KNN.fit(X_train,y_train)\n",
    "RF = RandomForestClassifier()\n",
    "RF.fit(X_train,y_train)\n",
    "NB = CategoricalNB()\n",
    "NB.fit(X_train,y_train)\n",
    "\n",
    "#Make prediction on the various model\n",
    "y_pred = KNN.predict(X_test)\n",
    "y_pred1 = RF.predict(X_test)\n",
    "y_pred2 = NB.predict(X_test)\n",
    "\n",
    "#Shows the reliability of different model on the current dataset \n",
    "print(\"KNN : \\n\", metrics.confusion_matrix(y_test,y_pred))\n",
    "print(\"RF : \\n\", metrics.confusion_matrix(y_test,y_pred1))\n",
    "print(\"NB : \\n\", metrics.confusion_matrix(y_test,y_pred2))\n",
    "print(\"KNN : \\n\", metrics.classification_report(y_test,y_pred))\n",
    "print(\"RF : \\n\", metrics.classification_report(y_test,y_pred1))\n",
    "print(\"NB : \\n\", metrics.classification_report(y_test,y_pred2))"
   ]
  },
  {
   "cell_type": "code",
   "execution_count": 28,
   "metadata": {},
   "outputs": [],
   "source": [
    "#Settings for hyperparameter tuning\n",
    "#Number of trees inside the random forest\n",
    "n_estimators = [int(x) for x in np.linspace(start = 10, stop = 100, num = 10)]\n",
    "\n",
    "#Number of features to consider at every split\n",
    "max_features = [2,3]\n",
    "\n",
    "#Maximum depth of the tree\n",
    "max_depth = [3,5,7]"
   ]
  },
  {
   "cell_type": "code",
   "execution_count": null,
   "metadata": {},
   "outputs": [],
   "source": [
    "#Hyperparameter tuning\n",
    "RF = RandomForestClassifier()\n",
    "param_grid = {'n_estimators': n_estimators, 'max_features': max_features, 'max_depth' : max_depth}\n",
    "gs = GridSearchCV(RF, param_grid, cv=3, n_jobs=-1, verbose=10)\n",
    "gs.fit(X_train,y_train)"
   ]
  },
  {
   "cell_type": "code",
   "execution_count": null,
   "metadata": {},
   "outputs": [],
   "source": [
    "#Check best parameter in hyperparameter tuning\n",
    "best_param = gs.best_params_\n",
    "RF = gs.best_estimator_\n",
    "print(best_param)\n",
    "print(RF.score(X_test,y_test))"
   ]
  },
  {
   "cell_type": "code",
   "execution_count": null,
   "metadata": {},
   "outputs": [],
   "source": [
    "#Create new data to classify\n",
    "data = {'buy_price' : 1 ,\n",
    "        'maint_price' : 0,\n",
    "        'doors' : 3,\n",
    "        'persons' : 1,\n",
    "        'lug_boot' : 0,\n",
    "        'safety' : 2}\n",
    "\n",
    "df = pd.DataFrame(data,index=[0])\n",
    "df"
   ]
  },
  {
   "cell_type": "code",
   "execution_count": null,
   "metadata": {},
   "outputs": [],
   "source": [
    "#Prediction on new data\n",
    "prediction = RF.predict(df)\n",
    "print(proc.inverse_transform(prediction))"
   ]
  }
 ],
 "metadata": {
  "kernelspec": {
   "display_name": "Python 3",
   "language": "python",
   "name": "python3"
  },
  "language_info": {
   "codemirror_mode": {
    "name": "ipython",
    "version": 3
   },
   "file_extension": ".py",
   "mimetype": "text/x-python",
   "name": "python",
   "nbconvert_exporter": "python",
   "pygments_lexer": "ipython3",
   "version": "3.11.4"
  },
  "orig_nbformat": 4
 },
 "nbformat": 4,
 "nbformat_minor": 2
}
